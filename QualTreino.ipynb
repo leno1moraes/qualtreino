{
  "nbformat": 4,
  "nbformat_minor": 0,
  "metadata": {
    "colab": {
      "provenance": [],
      "mount_file_id": "1O_hJxI_DCZMvy2S4pqSutWTs-k1H3H9G",
      "authorship_tag": "ABX9TyMwR/qPEJh8pbMajAseH7Rc",
      "include_colab_link": true
    },
    "kernelspec": {
      "name": "python3",
      "display_name": "Python 3"
    },
    "language_info": {
      "name": "python"
    }
  },
  "cells": [
    {
      "cell_type": "markdown",
      "metadata": {
        "id": "view-in-github",
        "colab_type": "text"
      },
      "source": [
        "<a href=\"https://colab.research.google.com/github/leno1moraes/qualtreino/blob/main/QualTreino.ipynb\" target=\"_parent\"><img src=\"https://colab.research.google.com/assets/colab-badge.svg\" alt=\"Open In Colab\"/></a>"
      ]
    },
    {
      "cell_type": "code",
      "source": [
        "!pip install -q -U google-generativeai\n",
        "\n",
        "import pathlib\n",
        "import textwrap\n",
        "\n",
        "import google.generativeai as genai\n",
        "\n",
        "from IPython.display import display\n",
        "from IPython.display import Markdown\n",
        "\n",
        "# Used to securely store your API key\n",
        "from google.colab import userdata\n",
        "\n",
        "# Or use `os.getenv('GOOGLE_API_KEY')` to fetch an environment variable.\n",
        "GOOGLE_API_KEY=userdata.get('GOOGLE_API_KEY')\n",
        "\n",
        "genai.configure(api_key=GOOGLE_API_KEY)\n",
        "\n",
        "model = genai.GenerativeModel('gemini-1.5-pro-latest')\n",
        "\n",
        "chat = model.start_chat(history=[])\n",
        "prompt = \"\"\n",
        "\n",
        "while prompt != 'fim':\n",
        "  if prompt != \"\":\n",
        "    response = chat.send_message(\"Dicas de excercícios e aparelhos para treinar: \" + prompt)\n",
        "    print(\"Resposta: \", response.text, \"\\n\")\n",
        "  prompt = input(\"O que você quer treinar hoje? \")"
      ],
      "metadata": {
        "id": "5-iWK6INyS9q"
      },
      "execution_count": null,
      "outputs": []
    }
  ]
}